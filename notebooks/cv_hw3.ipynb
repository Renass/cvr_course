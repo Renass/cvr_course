{
  "nbformat": 4,
  "nbformat_minor": 0,
  "metadata": {
    "kernelspec": {
      "display_name": "Python 3",
      "language": "python",
      "name": "python3"
    },
    "language_info": {
      "codemirror_mode": {
        "name": "ipython",
        "version": 3
      },
      "file_extension": ".py",
      "mimetype": "text/x-python",
      "name": "python",
      "nbconvert_exporter": "python",
      "pygments_lexer": "ipython3",
      "version": "3.7.3"
    },
    "colab": {
      "name": "cv_hw3.ipynb",
      "provenance": []
    }
  },
  "cells": [
    {
      "cell_type": "markdown",
      "metadata": {
        "id": "FcdIOF91oi7V"
      },
      "source": [
        "# Домашнее задание 3\n",
        "\n",
        "1) [1 балл] Реализуйте чтение изображений, лежащих в /data/imgs/arrow (как в демо с калибровкой камеры с семинара). Вся обязательная часть задания выполняется с этими изображениями\n",
        "\n",
        "1) [2 балла] Реализуйте нахождение расстояния от камеры до листка, учитывая, что это тот же листок, что был в первом демо\n",
        "\n",
        "2) [3 балла] Реализуйте приведение изображения листка к \"виду сверху\"\n",
        "\n",
        "3) [6 баллов] Реализуйте определение направления, в котором указывает стрелка. Можно использовать скелетонизацию из первого семинара по зрению: получить маску темной области (стрелки) внутри изображения листка, применить скелетонизацию, вычислить направление. Можно поступить иначе: после нахождения маски вычислить градиенты Собеля по x и y и проанализировать их направления. P.S. Можно использовать и полностью свой метод\n",
        "\n",
        "4) [3 балла] Доп. задача 1: Примените написанный Вами код к видео https://drive.google.com/file/d/1AQhg2lL5FL4edlOcxY2SHOOZ-v9TgHBD/view?usp=sharing. Загрузите видео на свой гугл диск, а затем дополните имеющийся код монтированием диска и чтением в цикле кадров видео, приведёнными в конце семинара\n",
        "\n",
        "5) [5 баллов] Доп. задача 2: определите, нормально ли видно листок в кадре. На некоторых кадрах его видно не полностью, один или больше уголков находятся за кадром. Это можно автоматически обнаруживать, к примеру используя размеры стрелки, и выводить на соответствующем кадре маркер - текст или цветную метку"
      ]
    },
    {
      "cell_type": "code",
      "metadata": {
        "id": "39eiISKVoi7e",
        "outputId": "2c1df321-e7bb-4c5c-8d3b-96abf647c613",
        "colab": {
          "base_uri": "https://localhost:8080/"
        }
      },
      "source": [
        "!git clone https://github.com/Renass/cvr_course"
      ],
      "execution_count": 1,
      "outputs": [
        {
          "output_type": "stream",
          "text": [
            "Cloning into 'cvr_course'...\n",
            "remote: Enumerating objects: 5, done.\u001b[K\n",
            "remote: Counting objects: 100% (5/5), done.\u001b[K\n",
            "remote: Compressing objects: 100% (5/5), done.\u001b[K\n",
            "remote: Total 534 (delta 0), reused 0 (delta 0), pack-reused 529\u001b[K\n",
            "Receiving objects: 100% (534/534), 78.92 MiB | 33.26 MiB/s, done.\n",
            "Resolving deltas: 100% (129/129), done.\n"
          ],
          "name": "stdout"
        }
      ]
    },
    {
      "cell_type": "code",
      "metadata": {
        "id": "v70ioSxMo8cP"
      },
      "source": [
        "import glob\r\n",
        "import cv2\r\n",
        "!cd cvr_course/notebooks/\r\n",
        "images = glob.glob('../data/imgs/arrow/*.jpg')\r\n",
        "for fname in images:\r\n",
        "    img = cv2.imread(fname)\r\n",
        "    gray = cv2.cvtColor(img,cv2.COLOR_BGR2GRAY)\r\n",
        "    plt.imshow (img)\r\n",
        "    plt.axis ('off')\r\n",
        "    plt.show ()\r\n",
        "    cv2.waitKey(500)"
      ],
      "execution_count": 13,
      "outputs": []
    }
  ]
}