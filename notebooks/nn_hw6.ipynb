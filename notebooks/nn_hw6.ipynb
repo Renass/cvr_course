{
  "nbformat": 4,
  "nbformat_minor": 0,
  "metadata": {
    "kernelspec": {
      "display_name": "Python 3",
      "language": "python",
      "name": "python3"
    },
    "language_info": {
      "codemirror_mode": {
        "name": "ipython",
        "version": 3
      },
      "file_extension": ".py",
      "mimetype": "text/x-python",
      "name": "python",
      "nbconvert_exporter": "python",
      "pygments_lexer": "ipython3",
      "version": "3.7.3"
    },
    "colab": {
      "name": "nn_hw6.ipynb",
      "provenance": []
    },
    "accelerator": "GPU"
  },
  "cells": [
    {
      "cell_type": "markdown",
      "metadata": {
        "id": "q4zxzAtJcuNi"
      },
      "source": [
        "# Домашнее задание 5\n",
        "\n",
        "Ссылка на семинар: https://colab.research.google.com/drive/1_G8kdmhtokmAUeMsSrl1IKqIs3_FEbeK?usp=sharing\n",
        "\n",
        "Не забудьте поставить видеокарту в качестве аппаратного ускорителя :)\n",
        "\n",
        "### Сохранение и загрузка\n",
        "\n",
        "[3 балла] \n",
        "\n",
        "Сделайте сохранение моделей после обучения (в формате .pth). В случае маленьких сетей на маленьких данных в этом нет необходимости, но в других случаях можно сохранять версию модели (checkpoint) каждые несколько (к примеру 5) эпох. Сделайте и протестируйте загрузку моделей для задачи классификации рукописных цифр.\n",
        "\n",
        "### Сверточная сеть на CIFAR-10\n",
        "\n",
        "[5 баллов]\n",
        "\n",
        "Решите задачу классификации на другом датасете - CIFAR-10 https://en.wikipedia.org/wiki/CIFAR-10\n",
        "В примерах к Pytorch есть полное решение этой задачи, но попробуйте придумать его самостоятельно. Этот датасет отличается от mnist тем, что изображения в нём имеют размер не 28x28, а 32x32x3, то есть они трёхканальные, \"цветные\". Для того, чтобы сеть заработала и начала хотя бы как-то учиться, нужно сделать так, чтобы размеры (shapes) тензоров на выходе предыдущего слоя совпадали с размером тензоров на входе следующего слоя.\n",
        "\n",
        "### Классификация на своих картинках\n",
        "\n",
        "[6 баллов]\n",
        "\n",
        "Запустите распознавание цифр на самостоятельно записанных данных. Можно использовать фотографию листочка, можно просто нарисовать их в пейнте. Чтобы все заработало, нужнро во-первых помнить, что сеть, созданная для работы с mnist, принимает на вход одноканальные картинки 28x28, а во-вторых учесть, что границы цифр в обучающих данных не резкие, в процессе их подготовки был применён антиалеасинг.\n",
        "\n",
        "### Загадка\n",
        "\n",
        "Доп.задача 1 [5 баллов]\n",
        "\n",
        "Найдите, почему при обучении свёрточной сети (Conv_net в семинаре) test loss всё время меньше train loss-а. Напишите, почему так получается, исправьте ошибку, если она есть. Обратите внимание, что при обучении Simple_net такого не наблюдается."
      ]
    },
    {
      "cell_type": "code",
      "metadata": {
        "id": "rGOX-9fjcuNs"
      },
      "source": [
        "from __future__ import print_function\n",
        "import argparse\n",
        "import torchvision\n",
        "import torch\n",
        "import torch.nn as nn\n",
        "import torch.nn.functional as F\n",
        "import torch.optim as optim\n",
        "from torchvision import datasets, transforms\n",
        "from torch.optim.lr_scheduler import StepLR\n",
        "import matplotlib.pyplot as plt"
      ],
      "execution_count": 9,
      "outputs": []
    },
    {
      "cell_type": "code",
      "metadata": {
        "colab": {
          "base_uri": "https://localhost:8080/"
        },
        "id": "z6hdKBtIm0Lh",
        "outputId": "c1aff3e0-0cf8-4a4e-cf72-44133c1a0946"
      },
      "source": [
        "batch_size = 100\n",
        "no_cuda = False\n",
        "use_cuda = not no_cuda and torch.cuda.is_available()\n",
        "kwargs = {'num_workers': 1, 'pin_memory': True} if use_cuda else {}\n",
        "\n",
        "train_loader = torch.utils.data.DataLoader(\n",
        "    datasets.CIFAR10('../data', train=True, download=True,\n",
        "                    transform=transforms.Compose([\n",
        "                        transforms.ToTensor(),\n",
        "                        transforms.Normalize((0.1307,), (0.3081,))\n",
        "                    ])),\n",
        "    batch_size=batch_size, shuffle=True, **kwargs)\n",
        "\n",
        "test_loader = torch.utils.data.DataLoader(\n",
        "    datasets.CIFAR10('../data', train=False, transform=transforms.Compose([\n",
        "                        transforms.ToTensor(),\n",
        "                        transforms.Normalize((0.1307,), (0.3081,))\n",
        "                    ])),\n",
        "    batch_size=batch_size, shuffle=True, **kwargs)"
      ],
      "execution_count": 10,
      "outputs": [
        {
          "output_type": "stream",
          "text": [
            "Files already downloaded and verified\n"
          ],
          "name": "stdout"
        }
      ]
    },
    {
      "cell_type": "code",
      "metadata": {
        "id": "R0wBLq0YrDVJ"
      },
      "source": [
        "class Net(nn.Module):\n",
        "    def __init__(self, hidden, out_sz):\n",
        "        super(Net, self).__init__()\n",
        "        \n",
        "        self.fc1 = nn.Linear(28**2, hidden)\n",
        "        self.fc2 = nn.Linear(hidden, hidden)\n",
        "        self.fc3 = nn.Linear(hidden, out_sz)\n",
        "\n",
        "    def forward(self, x):\n",
        "        x = torch.flatten(x, 1)\n",
        "        x = self.fc1(x)\n",
        "        x = F.leaky_relu (x)\n",
        "\n",
        "        x = self.fc2(x)\n",
        "        x = F.leaky_relu (x)\n",
        "        \n",
        "        x = self.fc3(x)\n",
        "        output = F.log_softmax(x, dim=1)\n",
        "\n",
        "        return output\n",
        "\n",
        "class Conv_net(nn.Module):\n",
        "    def __init__(self):\n",
        "        super(Conv_net, self).__init__()\n",
        "        self.conv1 = nn.Conv2d(3, 6, 3, 1,padding=1)\n",
        "        self.act1=nn.ReLU()\n",
        "        self.conv2 = nn.Conv2d(6, 12, 3, 1,padding=1)\n",
        "        self.max_pool2=nn.MaxPool2d(2)\n",
        "        self.dropout1 = nn.Dropout2d(0.25)\n",
        "        #Flatten in forward function\n",
        "        self.fc1 = nn.Linear(16*16*12, 100)\n",
        "        self.act2 = nn.ReLU()\n",
        "        self.dropout2 = nn.Dropout2d(0.5)\n",
        "        self.fc2 = nn.Linear(100, 10)\n",
        "        #self.act3 = nn.Softmax(dim=1)\n",
        "\n",
        "    def forward(self, x):\n",
        "        #torch.Size([batch_size, 3, 32, 32])\n",
        "        x = self.conv1(x)\n",
        "        #torch.Size([batch_size, 30, 32, 32])\n",
        "        x = self.act1(x)\n",
        "        x = self.conv2(x)\n",
        "        #torch.Size([batch_size,60,32,32])\n",
        "        x = self.max_pool2(x)\n",
        "        #torch.Size([batch_size, 60, 16, 16])\n",
        "        x = self.dropout1(x)\n",
        "        x = torch.flatten(x,1)\n",
        "        #torch.Size([batch_size, 15360])\n",
        "        x = self.fc1(x)\n",
        "        #torch.Size([batch_size, 100])\n",
        "        x = self.act2(x)\n",
        "        x = self.dropout2(x)\n",
        "        x = self.fc2(x)\n",
        "        #torch.Size([batch_size, 10])\n",
        "        x = F.log_softmax(x,dim=1)\n",
        "        return x\n",
        "    \n",
        "    #Using Softmax only for probability predictions\n",
        "    #In training we don't really need Softmax, faster not to use it\n",
        "    def inference(self,x):\n",
        "        x = self.forward(x)\n",
        "        x = self.act3(x)\n",
        "        return x\n",
        "\n",
        "\n",
        "\n",
        "\n",
        "\n",
        "\n",
        "\n",
        "\n",
        "class Le_net(nn.Module):\n",
        "    def __init__(self):\n",
        "        super(Le_net, self).__init__()\n",
        "        #in 3*32*32\n",
        "        self.conv1 = nn.Conv2d(3, 3, 3)\n",
        "        self.conv2 = nn.Conv2d(3,6,3)\n",
        "        self.act1=nn.ReLU()\n",
        "        self.max_pool1=nn.MaxPool2d(2)\n",
        "        self.dropout1 = nn.Dropout2d(0.25)\n",
        "        self.act2 = nn.ReLU()\n",
        "        #out 6*14*14\n",
        "\n",
        "        #in 6*14*14\n",
        "        self.conv3 = nn.Conv2d(6, 6, 3)\n",
        "        self.conv4 = nn.Conv2d(6, 16, 3)\n",
        "        self.act3 = nn.ReLU()\n",
        "        self.max_pool2=nn.MaxPool2d(2)\n",
        "        self.dropout2 = nn.Dropout2d(0.25)\n",
        "        self.act4 = nn.ReLU()\n",
        "        #out 16*5*5\n",
        "\n",
        "        #Flatten in forward function\n",
        "        self.fc1 = nn.Linear(16*5*5, 100)\n",
        "        self.act5 = nn.ReLU()\n",
        "        self.dropout3 = nn.Dropout2d(0.5)\n",
        "        self.fc2 = nn.Linear(100, 10)\n",
        "        #last activation in forward function\n",
        "\n",
        "    def forward(self, x):\n",
        "        x = self.conv1(x)\n",
        "        x = self.conv2(x)\n",
        "        x = self.act1(x)\n",
        "        x = self.max_pool1(x)\n",
        "        x = self.dropout1(x)\n",
        "        x = self.act2(x)\n",
        "\n",
        "        x = self.conv3(x)\n",
        "        x = self.conv4(x)\n",
        "        x = self.act3(x)\n",
        "        x = self.max_pool2(x)\n",
        "        x = self.dropout2(x)\n",
        "        x = self.act4(x)\n",
        "\n",
        "        x = torch.flatten(x,1)\n",
        "        x = self.fc1(x)\n",
        "        x = self.act5(x)\n",
        "        x = self.dropout3(x)\n",
        "        x = self.fc2(x)\n",
        "        x = F.log_softmax(x,dim=1)\n",
        "        return x"
      ],
      "execution_count": 21,
      "outputs": []
    },
    {
      "cell_type": "code",
      "metadata": {
        "id": "MuPHZ5IjPQb_"
      },
      "source": [
        "def train(model, train_dataset, epochs, optimizer):\n",
        "    model.train()\n",
        "    loss_epochs = []\n",
        "    for idx in range(epochs):\n",
        "        loss_samples = []\n",
        "        for data,target in train_dataset:\n",
        "            data=data.to(device)\n",
        "            target=target.to(device)\n",
        "            optimizer.zero_grad()   # zero the gradient buffers\n",
        "            output = model.forward(data)\n",
        "            \n",
        "            loss = F.nll_loss(output, target)\n",
        "            loss.backward()\n",
        "            loss_samples.append(loss.data.cpu().numpy())\n",
        "            optimizer.step()    # Does the update\n",
        "\n",
        "        loss_samples_mean = float(sum(loss_samples)) / len (loss_samples)\n",
        "        print(f\"Epoch {idx: >8} Loss: {loss_samples_mean}\")\n",
        "        loss_epochs.append(loss_samples_mean)\n",
        "\n",
        "    plt.plot(loss_epochs)\n",
        "    plt.ylabel('Loss')\n",
        "    plt.xlabel('Epoch')\n",
        "    plt.show() "
      ],
      "execution_count": 22,
      "outputs": []
    },
    {
      "cell_type": "code",
      "metadata": {
        "id": "bWP--dLjgQp9"
      },
      "source": [
        "def test(model, device, test_loader):\n",
        "    model.eval()\n",
        "    loss=0\n",
        "    accuracy = 0\n",
        "    correct = 0\n",
        "    total = 0\n",
        "    with torch.no_grad():\n",
        "        for data, target in test_loader:\n",
        "            data, target = data.to(device), target.to(device)\n",
        "            output = model.forward(data)\n",
        "            loss+= F.nll_loss(output,target)\n",
        "            pred = output.argmax(dim=1, keepdim=True)\n",
        "            target = target.view_as(pred)\n",
        "            for i,single_pred in enumerate(pred):\n",
        "                if single_pred == target[i]:\n",
        "                    correct+= 1\n",
        "            total += len(pred)\n",
        "    loss = loss/len(test_loader)\n",
        "    accuracy = correct / total\n",
        "    \n",
        "    print(loss)\n",
        "    print('\\n Accuracy: {}/{} ({:.0f}%)\\n'.format(\n",
        "        correct, total, 100. * accuracy))"
      ],
      "execution_count": 23,
      "outputs": []
    },
    {
      "cell_type": "code",
      "metadata": {
        "id": "Ox1EYkWFGJSQ"
      },
      "source": [
        "device = torch.device(\"cuda\" if use_cuda else \"cpu\")\n",
        "net = Le_net().to(device)"
      ],
      "execution_count": 24,
      "outputs": []
    },
    {
      "cell_type": "code",
      "metadata": {
        "colab": {
          "base_uri": "https://localhost:8080/",
          "height": 803
        },
        "id": "-a6h-ghjRu1c",
        "outputId": "f76d18a6-5ade-48fb-db7c-c6f1fb4336e2"
      },
      "source": [
        "#Main loop train epochs_train times and test once and\n",
        "#repeat it train_cycles times\n",
        "train_cycles=50\n",
        "epochs_train=5\n",
        "lr=0.0001\n",
        "#Main loop\n",
        "for i in range(train_cycles):\n",
        "    train(model=net, train_dataset=train_loader, epochs=epochs_train, optimizer=optim.Adam(net.parameters(), lr=lr))\n",
        "    test(model=net,device=device,test_loader=test_loader)"
      ],
      "execution_count": 25,
      "outputs": [
        {
          "output_type": "stream",
          "text": [
            "Epoch        0 Loss: 2.2566394090652464\n",
            "Epoch        1 Loss: 2.083249954223633\n",
            "Epoch        2 Loss: 2.0133425080776215\n",
            "Epoch        3 Loss: 1.9664968388080597\n",
            "Epoch        4 Loss: 1.9331482992172242\n"
          ],
          "name": "stdout"
        },
        {
          "output_type": "display_data",
          "data": {
            "image/png": "[encoded data removed]",
            "text/plain": [
              "<Figure size 432x288 with 1 Axes>"
            ]
          },
          "metadata": {
            "tags": [],
            "needs_background": "light"
          }
        },
        {
          "output_type": "stream",
          "text": [
            "tensor(1.7774, device='cuda:0')\n",
            "\n",
            " Accuracy: 3812/10000 (38%)\n",
            "\n",
            "Epoch        0 Loss: 1.900454115629196\n",
            "Epoch        1 Loss: 1.879506786584854\n"
          ],
          "name": "stdout"
        },
        {
          "output_type": "error",
          "ename": "KeyboardInterrupt",
          "evalue": "ignored",
          "traceback": [
            "\u001b[0;31m---------------------------------------------------------------------------\u001b[0m",
            "\u001b[0;31mKeyboardInterrupt\u001b[0m                         Traceback (most recent call last)",
            "\u001b[0;32m<ipython-input-25-2bfc72104b01>\u001b[0m in \u001b[0;36m<module>\u001b[0;34m()\u001b[0m\n\u001b[1;32m      6\u001b[0m \u001b[0;31m#Main loop\u001b[0m\u001b[0;34m\u001b[0m\u001b[0;34m\u001b[0m\u001b[0;34m\u001b[0m\u001b[0m\n\u001b[1;32m      7\u001b[0m \u001b[0;32mfor\u001b[0m \u001b[0mi\u001b[0m \u001b[0;32min\u001b[0m \u001b[0mrange\u001b[0m\u001b[0;34m(\u001b[0m\u001b[0mtrain_cycles\u001b[0m\u001b[0;34m)\u001b[0m\u001b[0;34m:\u001b[0m\u001b[0;34m\u001b[0m\u001b[0;34m\u001b[0m\u001b[0m\n\u001b[0;32m----> 8\u001b[0;31m     \u001b[0mtrain\u001b[0m\u001b[0;34m(\u001b[0m\u001b[0mmodel\u001b[0m\u001b[0;34m=\u001b[0m\u001b[0mnet\u001b[0m\u001b[0;34m,\u001b[0m \u001b[0mtrain_dataset\u001b[0m\u001b[0;34m=\u001b[0m\u001b[0mtrain_loader\u001b[0m\u001b[0;34m,\u001b[0m \u001b[0mepochs\u001b[0m\u001b[0;34m=\u001b[0m\u001b[0mepochs_train\u001b[0m\u001b[0;34m,\u001b[0m \u001b[0moptimizer\u001b[0m\u001b[0;34m=\u001b[0m\u001b[0moptim\u001b[0m\u001b[0;34m.\u001b[0m\u001b[0mAdam\u001b[0m\u001b[0;34m(\u001b[0m\u001b[0mnet\u001b[0m\u001b[0;34m.\u001b[0m\u001b[0mparameters\u001b[0m\u001b[0;34m(\u001b[0m\u001b[0;34m)\u001b[0m\u001b[0;34m,\u001b[0m \u001b[0mlr\u001b[0m\u001b[0;34m=\u001b[0m\u001b[0mlr\u001b[0m\u001b[0;34m)\u001b[0m\u001b[0;34m)\u001b[0m\u001b[0;34m\u001b[0m\u001b[0;34m\u001b[0m\u001b[0m\n\u001b[0m\u001b[1;32m      9\u001b[0m     \u001b[0mtest\u001b[0m\u001b[0;34m(\u001b[0m\u001b[0mmodel\u001b[0m\u001b[0;34m=\u001b[0m\u001b[0mnet\u001b[0m\u001b[0;34m,\u001b[0m\u001b[0mdevice\u001b[0m\u001b[0;34m=\u001b[0m\u001b[0mdevice\u001b[0m\u001b[0;34m,\u001b[0m\u001b[0mtest_loader\u001b[0m\u001b[0;34m=\u001b[0m\u001b[0mtest_loader\u001b[0m\u001b[0;34m)\u001b[0m\u001b[0;34m\u001b[0m\u001b[0;34m\u001b[0m\u001b[0m\n",
            "\u001b[0;32m<ipython-input-22-773b575430b2>\u001b[0m in \u001b[0;36mtrain\u001b[0;34m(model, train_dataset, epochs, optimizer)\u001b[0m\n\u001b[1;32m     12\u001b[0m             \u001b[0mloss\u001b[0m \u001b[0;34m=\u001b[0m \u001b[0mF\u001b[0m\u001b[0;34m.\u001b[0m\u001b[0mnll_loss\u001b[0m\u001b[0;34m(\u001b[0m\u001b[0moutput\u001b[0m\u001b[0;34m,\u001b[0m \u001b[0mtarget\u001b[0m\u001b[0;34m)\u001b[0m\u001b[0;34m\u001b[0m\u001b[0;34m\u001b[0m\u001b[0m\n\u001b[1;32m     13\u001b[0m             \u001b[0mloss\u001b[0m\u001b[0;34m.\u001b[0m\u001b[0mbackward\u001b[0m\u001b[0;34m(\u001b[0m\u001b[0;34m)\u001b[0m\u001b[0;34m\u001b[0m\u001b[0;34m\u001b[0m\u001b[0m\n\u001b[0;32m---> 14\u001b[0;31m             \u001b[0mloss_samples\u001b[0m\u001b[0;34m.\u001b[0m\u001b[0mappend\u001b[0m\u001b[0;34m(\u001b[0m\u001b[0mloss\u001b[0m\u001b[0;34m.\u001b[0m\u001b[0mdata\u001b[0m\u001b[0;34m.\u001b[0m\u001b[0mcpu\u001b[0m\u001b[0;34m(\u001b[0m\u001b[0;34m)\u001b[0m\u001b[0;34m.\u001b[0m\u001b[0mnumpy\u001b[0m\u001b[0;34m(\u001b[0m\u001b[0;34m)\u001b[0m\u001b[0;34m)\u001b[0m\u001b[0;34m\u001b[0m\u001b[0;34m\u001b[0m\u001b[0m\n\u001b[0m\u001b[1;32m     15\u001b[0m             \u001b[0moptimizer\u001b[0m\u001b[0;34m.\u001b[0m\u001b[0mstep\u001b[0m\u001b[0;34m(\u001b[0m\u001b[0;34m)\u001b[0m    \u001b[0;31m# Does the update\u001b[0m\u001b[0;34m\u001b[0m\u001b[0;34m\u001b[0m\u001b[0m\n\u001b[1;32m     16\u001b[0m \u001b[0;34m\u001b[0m\u001b[0m\n",
            "\u001b[0;31mKeyboardInterrupt\u001b[0m: "
          ]
        }
      ]
    }
  ]
}