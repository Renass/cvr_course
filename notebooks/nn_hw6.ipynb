{
  "nbformat": 4,
  "nbformat_minor": 0,
  "metadata": {
    "kernelspec": {
      "display_name": "Python 3",
      "language": "python",
      "name": "python3"
    },
    "language_info": {
      "codemirror_mode": {
        "name": "ipython",
        "version": 3
      },
      "file_extension": ".py",
      "mimetype": "text/x-python",
      "name": "python",
      "nbconvert_exporter": "python",
      "pygments_lexer": "ipython3",
      "version": "3.7.3"
    },
    "colab": {
      "name": "nn_hw6.ipynb",
      "provenance": []
    },
    "accelerator": "GPU",
    "widgets": {
      "application/vnd.jupyter.widget-state+json": {
        "5555dd9f94384f49b76a7a8d9823e9fd": {
          "model_module": "@jupyter-widgets/controls",
          "model_name": "HBoxModel",
          "state": {
            "_view_name": "HBoxView",
            "_dom_classes": [],
            "_model_name": "HBoxModel",
            "_view_module": "@jupyter-widgets/controls",
            "_model_module_version": "1.5.0",
            "_view_count": null,
            "_view_module_version": "1.5.0",
            "box_style": "",
            "layout": "IPY_MODEL_344fc4e5972e40b496e52099240eac44",
            "_model_module": "@jupyter-widgets/controls",
            "children": [
              "IPY_MODEL_8d166193faa4491598e7c2ad71af6b4d",
              "IPY_MODEL_9d3aaec9075e4772bb0ec9fd9c32b8ad"
            ]
          }
        },
        "344fc4e5972e40b496e52099240eac44": {
          "model_module": "@jupyter-widgets/base",
          "model_name": "LayoutModel",
          "state": {
            "_view_name": "LayoutView",
            "grid_template_rows": null,
            "right": null,
            "justify_content": null,
            "_view_module": "@jupyter-widgets/base",
            "overflow": null,
            "_model_module_version": "1.2.0",
            "_view_count": null,
            "flex_flow": null,
            "width": null,
            "min_width": null,
            "border": null,
            "align_items": null,
            "bottom": null,
            "_model_module": "@jupyter-widgets/base",
            "top": null,
            "grid_column": null,
            "overflow_y": null,
            "overflow_x": null,
            "grid_auto_flow": null,
            "grid_area": null,
            "grid_template_columns": null,
            "flex": null,
            "_model_name": "LayoutModel",
            "justify_items": null,
            "grid_row": null,
            "max_height": null,
            "align_content": null,
            "visibility": null,
            "align_self": null,
            "height": null,
            "min_height": null,
            "padding": null,
            "grid_auto_rows": null,
            "grid_gap": null,
            "max_width": null,
            "order": null,
            "_view_module_version": "1.2.0",
            "grid_template_areas": null,
            "object_position": null,
            "object_fit": null,
            "grid_auto_columns": null,
            "margin": null,
            "display": null,
            "left": null
          }
        },
        "8d166193faa4491598e7c2ad71af6b4d": {
          "model_module": "@jupyter-widgets/controls",
          "model_name": "FloatProgressModel",
          "state": {
            "_view_name": "ProgressView",
            "style": "IPY_MODEL_db9748018dc040ff818334b3e44659ce",
            "_dom_classes": [],
            "description": "",
            "_model_name": "FloatProgressModel",
            "bar_style": "success",
            "max": 170498071,
            "_view_module": "@jupyter-widgets/controls",
            "_model_module_version": "1.5.0",
            "value": 170498071,
            "_view_count": null,
            "_view_module_version": "1.5.0",
            "orientation": "horizontal",
            "min": 0,
            "description_tooltip": null,
            "_model_module": "@jupyter-widgets/controls",
            "layout": "IPY_MODEL_3966c920b3504f3da290596e73df54e3"
          }
        },
        "9d3aaec9075e4772bb0ec9fd9c32b8ad": {
          "model_module": "@jupyter-widgets/controls",
          "model_name": "HTMLModel",
          "state": {
            "_view_name": "HTMLView",
            "style": "IPY_MODEL_ba326d0ecb6b4120bf44c8b74c9fe75a",
            "_dom_classes": [],
            "description": "",
            "_model_name": "HTMLModel",
            "placeholder": "​",
            "_view_module": "@jupyter-widgets/controls",
            "_model_module_version": "1.5.0",
            "value": " 170499072/? [02:38&lt;00:00, 1073982.77it/s]",
            "_view_count": null,
            "_view_module_version": "1.5.0",
            "description_tooltip": null,
            "_model_module": "@jupyter-widgets/controls",
            "layout": "IPY_MODEL_5b3863c1fa544c669f432c912fe601ec"
          }
        },
        "db9748018dc040ff818334b3e44659ce": {
          "model_module": "@jupyter-widgets/controls",
          "model_name": "ProgressStyleModel",
          "state": {
            "_view_name": "StyleView",
            "_model_name": "ProgressStyleModel",
            "description_width": "initial",
            "_view_module": "@jupyter-widgets/base",
            "_model_module_version": "1.5.0",
            "_view_count": null,
            "_view_module_version": "1.2.0",
            "bar_color": null,
            "_model_module": "@jupyter-widgets/controls"
          }
        },
        "3966c920b3504f3da290596e73df54e3": {
          "model_module": "@jupyter-widgets/base",
          "model_name": "LayoutModel",
          "state": {
            "_view_name": "LayoutView",
            "grid_template_rows": null,
            "right": null,
            "justify_content": null,
            "_view_module": "@jupyter-widgets/base",
            "overflow": null,
            "_model_module_version": "1.2.0",
            "_view_count": null,
            "flex_flow": null,
            "width": null,
            "min_width": null,
            "border": null,
            "align_items": null,
            "bottom": null,
            "_model_module": "@jupyter-widgets/base",
            "top": null,
            "grid_column": null,
            "overflow_y": null,
            "overflow_x": null,
            "grid_auto_flow": null,
            "grid_area": null,
            "grid_template_columns": null,
            "flex": null,
            "_model_name": "LayoutModel",
            "justify_items": null,
            "grid_row": null,
            "max_height": null,
            "align_content": null,
            "visibility": null,
            "align_self": null,
            "height": null,
            "min_height": null,
            "padding": null,
            "grid_auto_rows": null,
            "grid_gap": null,
            "max_width": null,
            "order": null,
            "_view_module_version": "1.2.0",
            "grid_template_areas": null,
            "object_position": null,
            "object_fit": null,
            "grid_auto_columns": null,
            "margin": null,
            "display": null,
            "left": null
          }
        },
        "ba326d0ecb6b4120bf44c8b74c9fe75a": {
          "model_module": "@jupyter-widgets/controls",
          "model_name": "DescriptionStyleModel",
          "state": {
            "_view_name": "StyleView",
            "_model_name": "DescriptionStyleModel",
            "description_width": "",
            "_view_module": "@jupyter-widgets/base",
            "_model_module_version": "1.5.0",
            "_view_count": null,
            "_view_module_version": "1.2.0",
            "_model_module": "@jupyter-widgets/controls"
          }
        },
        "5b3863c1fa544c669f432c912fe601ec": {
          "model_module": "@jupyter-widgets/base",
          "model_name": "LayoutModel",
          "state": {
            "_view_name": "LayoutView",
            "grid_template_rows": null,
            "right": null,
            "justify_content": null,
            "_view_module": "@jupyter-widgets/base",
            "overflow": null,
            "_model_module_version": "1.2.0",
            "_view_count": null,
            "flex_flow": null,
            "width": null,
            "min_width": null,
            "border": null,
            "align_items": null,
            "bottom": null,
            "_model_module": "@jupyter-widgets/base",
            "top": null,
            "grid_column": null,
            "overflow_y": null,
            "overflow_x": null,
            "grid_auto_flow": null,
            "grid_area": null,
            "grid_template_columns": null,
            "flex": null,
            "_model_name": "LayoutModel",
            "justify_items": null,
            "grid_row": null,
            "max_height": null,
            "align_content": null,
            "visibility": null,
            "align_self": null,
            "height": null,
            "min_height": null,
            "padding": null,
            "grid_auto_rows": null,
            "grid_gap": null,
            "max_width": null,
            "order": null,
            "_view_module_version": "1.2.0",
            "grid_template_areas": null,
            "object_position": null,
            "object_fit": null,
            "grid_auto_columns": null,
            "margin": null,
            "display": null,
            "left": null
          }
        }
      }
    }
  },
  "cells": [
    {
      "cell_type": "markdown",
      "metadata": {
        "id": "q4zxzAtJcuNi"
      },
      "source": [
        "# Домашнее задание 5\n",
        "\n",
        "Ссылка на семинар: https://colab.research.google.com/drive/1_G8kdmhtokmAUeMsSrl1IKqIs3_FEbeK?usp=sharing\n",
        "\n",
        "Не забудьте поставить видеокарту в качестве аппаратного ускорителя :)\n",
        "\n",
        "### Сохранение и загрузка\n",
        "\n",
        "[3 балла] \n",
        "\n",
        "Сделайте сохранение моделей после обучения (в формате .pth). В случае маленьких сетей на маленьких данных в этом нет необходимости, но в других случаях можно сохранять версию модели (checkpoint) каждые несколько (к примеру 5) эпох. Сделайте и протестируйте загрузку моделей для задачи классификации рукописных цифр.\n",
        "\n",
        "### Сверточная сеть на CIFAR-10\n",
        "\n",
        "[5 баллов]\n",
        "\n",
        "Решите задачу классификации на другом датасете - CIFAR-10 https://en.wikipedia.org/wiki/CIFAR-10\n",
        "В примерах к Pytorch есть полное решение этой задачи, но попробуйте придумать его самостоятельно. Этот датасет отличается от mnist тем, что изображения в нём имеют размер не 28x28, а 32x32x3, то есть они трёхканальные, \"цветные\". Для того, чтобы сеть заработала и начала хотя бы как-то учиться, нужно сделать так, чтобы размеры (shapes) тензоров на выходе предыдущего слоя совпадали с размером тензоров на входе следующего слоя.\n",
        "\n",
        "### Классификация на своих картинках\n",
        "\n",
        "[6 баллов]\n",
        "\n",
        "Запустите распознавание цифр на самостоятельно записанных данных. Можно использовать фотографию листочка, можно просто нарисовать их в пейнте. Чтобы все заработало, нужнро во-первых помнить, что сеть, созданная для работы с mnist, принимает на вход одноканальные картинки 28x28, а во-вторых учесть, что границы цифр в обучающих данных не резкие, в процессе их подготовки был применён антиалеасинг.\n",
        "\n",
        "### Загадка\n",
        "\n",
        "Доп.задача 1 [5 баллов]\n",
        "\n",
        "Найдите, почему при обучении свёрточной сети (Conv_net в семинаре) test loss всё время меньше train loss-а. Напишите, почему так получается, исправьте ошибку, если она есть. Обратите внимание, что при обучении Simple_net такого не наблюдается."
      ]
    },
    {
      "cell_type": "code",
      "metadata": {
        "id": "rGOX-9fjcuNs"
      },
      "source": [
        "from __future__ import print_function\n",
        "import argparse\n",
        "import torchvision\n",
        "import torch\n",
        "import torch.nn as nn\n",
        "import torch.nn.functional as F\n",
        "import torch.optim as optim\n",
        "from torchvision import datasets, transforms\n",
        "from torch.optim.lr_scheduler import StepLR\n",
        "import matplotlib.pyplot as plt"
      ],
      "execution_count": 1,
      "outputs": []
    },
    {
      "cell_type": "markdown",
      "metadata": {
        "id": "UIrcYccEIVZ-"
      },
      "source": [
        "#Batch preprocessing"
      ]
    },
    {
      "cell_type": "code",
      "metadata": {
        "colab": {
          "base_uri": "https://localhost:8080/",
          "height": 102,
          "referenced_widgets": [
            "5555dd9f94384f49b76a7a8d9823e9fd",
            "344fc4e5972e40b496e52099240eac44",
            "8d166193faa4491598e7c2ad71af6b4d",
            "9d3aaec9075e4772bb0ec9fd9c32b8ad",
            "db9748018dc040ff818334b3e44659ce",
            "3966c920b3504f3da290596e73df54e3",
            "ba326d0ecb6b4120bf44c8b74c9fe75a",
            "5b3863c1fa544c669f432c912fe601ec"
          ]
        },
        "id": "z6hdKBtIm0Lh",
        "outputId": "7536918c-31d3-432a-9578-6900e2468d99"
      },
      "source": [
        "batch_size = 100\n",
        "no_cuda = False\n",
        "use_cuda = not no_cuda and torch.cuda.is_available()\n",
        "kwargs = {'num_workers': 1, 'pin_memory': True} if use_cuda else {}\n",
        "\n",
        "train_loader = torch.utils.data.DataLoader(\n",
        "    datasets.CIFAR10('../data', train=True, download=True,\n",
        "                    transform=transforms.Compose([\n",
        "                        transforms.ToTensor(),\n",
        "                        transforms.Normalize((0.1307,), (0.3081,))\n",
        "                    ])),\n",
        "    batch_size=batch_size, shuffle=True, **kwargs)\n",
        "\n",
        "test_loader = torch.utils.data.DataLoader(\n",
        "    datasets.CIFAR10('../data', train=False, transform=transforms.Compose([\n",
        "                        transforms.ToTensor(),\n",
        "                        transforms.Normalize((0.1307,), (0.3081,))\n",
        "                    ])),\n",
        "    batch_size=batch_size, shuffle=True, **kwargs)"
      ],
      "execution_count": 2,
      "outputs": [
        {
          "output_type": "stream",
          "text": [
            "Downloading https://www.cs.toronto.edu/~kriz/cifar-10-python.tar.gz to ../data/cifar-10-python.tar.gz\n"
          ],
          "name": "stdout"
        },
        {
          "output_type": "display_data",
          "data": {
            "application/vnd.jupyter.widget-view+json": {
              "model_id": "5555dd9f94384f49b76a7a8d9823e9fd",
              "version_minor": 0,
              "version_major": 2
            },
            "text/plain": [
              "HBox(children=(FloatProgress(value=0.0, max=170498071.0), HTML(value='')))"
            ]
          },
          "metadata": {
            "tags": []
          }
        },
        {
          "output_type": "stream",
          "text": [
            "\n",
            "Extracting ../data/cifar-10-python.tar.gz to ../data\n"
          ],
          "name": "stdout"
        }
      ]
    },
    {
      "cell_type": "markdown",
      "metadata": {
        "id": "QzMfSHZFIyRj"
      },
      "source": [
        "#Alternative batch preprocessing"
      ]
    },
    {
      "cell_type": "code",
      "metadata": {
        "cellView": "form",
        "id": "YFPRhFsiuMgj"
      },
      "source": [
        "#@title\n",
        "\n",
        "no_cuda = False\n",
        "use_cuda = not no_cuda and torch.cuda.is_available()\n",
        "transform = transforms.Compose(\n",
        "    [transforms.ToTensor(),\n",
        "     transforms.Normalize((0.5, 0.5, 0.5), (0.5, 0.5, 0.5))])\n",
        "\n",
        "trainset = torchvision.datasets.CIFAR10(root='./data', \n",
        "                                        train=True,\n",
        "                                        download=True, \n",
        "                                        transform=transform)\n",
        "train_loader = torch.utils.data.DataLoader(trainset, \n",
        "                                          batch_size=100,\n",
        "                                          shuffle=True, \n",
        "                                          num_workers=2)\n",
        "\n",
        "testset = torchvision.datasets.CIFAR10(root='./data', \n",
        "                                       train=False,\n",
        "                                       download=True, \n",
        "                                       transform=transform)\n",
        "test_loader = torch.utils.data.DataLoader(testset, \n",
        "                                         batch_size=100,\n",
        "                                         shuffle=False, \n",
        "                                         num_workers=2)\n",
        "\n",
        "classes = ('plane', 'car', 'bird', 'cat',\n",
        "           'deer', 'dog', 'frog', 'horse', 'ship', 'truck')"
      ],
      "execution_count": null,
      "outputs": []
    },
    {
      "cell_type": "markdown",
      "metadata": {
        "id": "7jG9lvUhJHX7"
      },
      "source": [
        "#Network classes"
      ]
    },
    {
      "cell_type": "code",
      "metadata": {
        "id": "R0wBLq0YrDVJ"
      },
      "source": [
        "class Net(nn.Module):\n",
        "    def __init__(self, hidden, out_sz):\n",
        "        super(Net, self).__init__()\n",
        "        \n",
        "        self.fc1 = nn.Linear(28**2, hidden)\n",
        "        self.fc2 = nn.Linear(hidden, hidden)\n",
        "        self.fc3 = nn.Linear(hidden, out_sz)\n",
        "\n",
        "    def forward(self, x):\n",
        "        x = torch.flatten(x, 1)\n",
        "        x = self.fc1(x)\n",
        "        x = F.leaky_relu (x)\n",
        "\n",
        "        x = self.fc2(x)\n",
        "        x = F.leaky_relu (x)\n",
        "        \n",
        "        x = self.fc3(x)\n",
        "        output = F.log_softmax(x, dim=1)\n",
        "\n",
        "        return output\n",
        "\n",
        "class Conv_net(nn.Module):\n",
        "    def __init__(self):\n",
        "        super(Conv_net, self).__init__()\n",
        "        self.conv1 = nn.Conv2d(3, 6, 3, 1,padding=1)\n",
        "        self.act1=nn.ReLU()\n",
        "        self.conv2 = nn.Conv2d(6, 12, 3, 1,padding=1)\n",
        "        self.max_pool2=nn.MaxPool2d(2)\n",
        "        self.dropout1 = nn.Dropout2d(0.25)\n",
        "        #Flatten in forward function\n",
        "        self.fc1 = nn.Linear(16*16*12, 100)\n",
        "        self.act2 = nn.ReLU()\n",
        "        self.dropout2 = nn.Dropout2d(0.5)\n",
        "        self.fc2 = nn.Linear(100, 10)\n",
        "        #self.act3 = nn.Softmax(dim=1)\n",
        "\n",
        "    def forward(self, x):\n",
        "        #torch.Size([batch_size, 3, 32, 32])\n",
        "        x = self.conv1(x)\n",
        "        #torch.Size([batch_size, 30, 32, 32])\n",
        "        x = self.act1(x)\n",
        "        x = self.conv2(x)\n",
        "        #torch.Size([batch_size,60,32,32])\n",
        "        x = self.max_pool2(x)\n",
        "        #torch.Size([batch_size, 60, 16, 16])\n",
        "        x = self.dropout1(x)\n",
        "        x = torch.flatten(x,1)\n",
        "        #torch.Size([batch_size, 15360])\n",
        "        x = self.fc1(x)\n",
        "        #torch.Size([batch_size, 100])\n",
        "        x = self.act2(x)\n",
        "        x = self.dropout2(x)\n",
        "        x = self.fc2(x)\n",
        "        #torch.Size([batch_size, 10])\n",
        "        x = F.log_softmax(x,dim=1)\n",
        "        return x\n",
        "    \n",
        "    #Using Softmax only for probability predictions\n",
        "    #In training we don't really need Softmax, faster not to use it\n",
        "    def inference(self,x):\n",
        "        x = self.forward(x)\n",
        "        x = self.act3(x)\n",
        "        return x\n",
        "\n",
        "\n",
        "\n",
        "\n",
        "\n",
        "\n",
        "\n",
        "\n",
        "class Le_net(nn.Module):\n",
        "    def __init__(self):\n",
        "        super(Le_net, self).__init__()\n",
        "\n",
        "        #in 3*32*32\n",
        "        self.conv1 = nn.Conv2d(3, 3, 3)\n",
        "        self.conv2 = nn.Conv2d(3,6,3)\n",
        "        self.act1=nn.ReLU()\n",
        "        self.max_pool1=nn.MaxPool2d(2)\n",
        "        self.dropout1 = nn.Dropout2d(0.25)\n",
        "        self.act2 = nn.ReLU()\n",
        "        #out 6*14*14\n",
        "\n",
        "        #in 6*14*14\n",
        "        self.conv3 = nn.Conv2d(6, 6, 3)\n",
        "        self.conv4 = nn.Conv2d(6, 16, 3)\n",
        "        self.act3 = nn.ReLU()\n",
        "        self.max_pool2=nn.MaxPool2d(2)\n",
        "        self.dropout2 = nn.Dropout2d(0.25)\n",
        "        self.act4 = nn.ReLU()\n",
        "        #out 16*5*5\n",
        "\n",
        "        #Flatten in forward function\n",
        "        self.fc1 = nn.Linear(16*5*5, 100)\n",
        "        self.act5 = nn.ReLU()\n",
        "        self.dropout3 = nn.Dropout2d(0.5)\n",
        "        self.fc2 = nn.Linear(100, 10)\n",
        "        #last activation in forward function\n",
        "\n",
        "    def forward(self, x):\n",
        "        x = self.conv1(x)\n",
        "        x = self.conv2(x)\n",
        "        x = self.act1(x)\n",
        "        x = self.max_pool1(x)\n",
        "        x = self.dropout1(x)\n",
        "        x = self.act2(x)\n",
        "\n",
        "        x = self.conv3(x)\n",
        "        x = self.conv4(x)\n",
        "        x = self.act3(x)\n",
        "        x = self.max_pool2(x)\n",
        "        x = self.dropout2(x)\n",
        "        x = self.act4(x)\n",
        "\n",
        "        x = torch.flatten(x,1)\n",
        "        x = self.fc1(x)\n",
        "        x = self.act5(x)\n",
        "        x = self.dropout3(x)\n",
        "        x = self.fc2(x)\n",
        "        x = F.log_softmax(x,dim=1)\n",
        "        return x"
      ],
      "execution_count": 17,
      "outputs": []
    },
    {
      "cell_type": "markdown",
      "metadata": {
        "id": "v5XV-tKGJroj"
      },
      "source": [
        "#Training procedure"
      ]
    },
    {
      "cell_type": "code",
      "metadata": {
        "id": "MuPHZ5IjPQb_"
      },
      "source": [
        "def train(model, train_dataset, epochs, optimizer):\n",
        "    model.train()\n",
        "    loss_epochs = []\n",
        "    for idx in range(epochs):\n",
        "        loss_samples = []\n",
        "        for data,target in train_dataset:\n",
        "            data=data.to(device)\n",
        "            target=target.to(device)\n",
        "            optimizer.zero_grad()   # zero the gradient buffers\n",
        "            output = model.forward(data)\n",
        "            \n",
        "            loss = F.nll_loss(output, target)\n",
        "            loss.backward()\n",
        "            loss_samples.append(loss.data.cpu().numpy())\n",
        "            optimizer.step()    # Does the update\n",
        "\n",
        "        loss_samples_mean = float(sum(loss_samples)) / len (loss_samples)\n",
        "        print(f\"Epoch {idx: >8} Loss: {loss_samples_mean}\")\n",
        "        loss_epochs.append(loss_samples_mean)\n",
        "\n",
        "    plt.plot(loss_epochs)\n",
        "    plt.ylabel('Loss')\n",
        "    plt.xlabel('Epoch')\n",
        "    plt.show() "
      ],
      "execution_count": 6,
      "outputs": []
    },
    {
      "cell_type": "markdown",
      "metadata": {
        "id": "7_gF2o5IJypi"
      },
      "source": [
        "#Test procedure"
      ]
    },
    {
      "cell_type": "code",
      "metadata": {
        "id": "bWP--dLjgQp9"
      },
      "source": [
        "def test(model, device, test_loader):\n",
        "    model.eval()\n",
        "    loss=0\n",
        "    accuracy = 0\n",
        "    correct = 0\n",
        "    total = 0\n",
        "    with torch.no_grad():\n",
        "        for data, target in test_loader:\n",
        "            data, target = data.to(device), target.to(device)\n",
        "            output = model.forward(data)\n",
        "            loss+= F.nll_loss(output,target)\n",
        "            pred = output.argmax(dim=1, keepdim=True)\n",
        "            target = target.view_as(pred)\n",
        "            for i,single_pred in enumerate(pred):\n",
        "                if single_pred == target[i]:\n",
        "                    correct+= 1\n",
        "            total += len(pred)\n",
        "    loss = loss/len(test_loader)\n",
        "    accuracy = correct / total\n",
        "    \n",
        "    print(loss)\n",
        "    print('\\n Accuracy: {}/{} ({:.0f}%)\\n'.format(\n",
        "        correct, total, 100. * accuracy))"
      ],
      "execution_count": 7,
      "outputs": []
    },
    {
      "cell_type": "markdown",
      "metadata": {
        "id": "9owoqvyDJ53q"
      },
      "source": [
        "#Alternative test (beta)"
      ]
    },
    {
      "cell_type": "code",
      "metadata": {
        "cellView": "form",
        "id": "w6sKjOnKoYeE"
      },
      "source": [
        "#@title\n",
        "def test(model, device, test_loader):\n",
        "    test_loss_history = []\n",
        "    model.eval()\n",
        "    for data,target in test_loader:\n",
        "        data, target = data.to(device), target.to(device)\n",
        "        pred = model.forward(data)\n",
        "        test_loss_history.append(F.nll_loss(pred, target).data.cpu())\n",
        "        accuracy = (pred.argmax(dim=1) == target).float().mean().data.cpu()\n",
        "        print(accuracy)"
      ],
      "execution_count": 32,
      "outputs": []
    },
    {
      "cell_type": "markdown",
      "metadata": {
        "id": "W-yIa9KyLttD"
      },
      "source": [
        "#New neral network from class\n",
        "####you can restart to refresh weights to random"
      ]
    },
    {
      "cell_type": "code",
      "metadata": {
        "id": "Ox1EYkWFGJSQ"
      },
      "source": [
        "device = torch.device(\"cuda\" if use_cuda else \"cpu\")\n",
        "net = Le_net().to(device)"
      ],
      "execution_count": 18,
      "outputs": []
    },
    {
      "cell_type": "markdown",
      "metadata": {
        "id": "CE88kJaANDH5"
      },
      "source": [
        "#Main loop\n",
        "\n",
        "######Try your luck!"
      ]
    },
    {
      "cell_type": "code",
      "metadata": {
        "colab": {
          "base_uri": "https://localhost:8080/",
          "height": 1000
        },
        "id": "-a6h-ghjRu1c",
        "outputId": "48eac69f-bb9a-4b3c-f44e-e807fc089f87"
      },
      "source": [
        "#Main loop train epochs_train times and test once and\n",
        "#repeat it train_cycles times\n",
        "train_cycles=3\n",
        "epochs_train=10\n",
        "lr=0.001\n",
        "#Main loop\n",
        "for i in range(train_cycles):\n",
        "    train(model=net, train_dataset=train_loader, epochs=epochs_train, optimizer=optim.Adam(net.parameters(), lr=lr))\n",
        "    test(model=net,device=device,test_loader=test_loader)"
      ],
      "execution_count": 19,
      "outputs": [
        {
          "output_type": "stream",
          "text": [
            "Epoch        0 Loss: 1.9692185392379762\n",
            "Epoch        1 Loss: 1.7586684112548827\n",
            "Epoch        2 Loss: 1.7060069205760955\n",
            "Epoch        3 Loss: 1.6684755930900574\n",
            "Epoch        4 Loss: 1.6494665515422822\n",
            "Epoch        5 Loss: 1.6313079736232758\n",
            "Epoch        6 Loss: 1.6126668853759765\n",
            "Epoch        7 Loss: 1.6020069947242737\n",
            "Epoch        8 Loss: 1.5906036787033082\n",
            "Epoch        9 Loss: 1.577273516178131\n"
          ],
          "name": "stdout"
        },
        {
          "output_type": "display_data",
          "data": {
            "image/png": "[encoded data removed]",
            "text/plain": [
              "<Figure size 432x288 with 1 Axes>"
            ]
          },
          "metadata": {
            "tags": [],
            "needs_background": "light"
          }
        },
        {
          "output_type": "stream",
          "text": [
            "tensor(1.4045, device='cuda:0')\n",
            "\n",
            " Accuracy: 5025/10000 (50%)\n",
            "\n",
            "Epoch        0 Loss: 1.5698617942333222\n",
            "Epoch        1 Loss: 1.5645761210918427\n",
            "Epoch        2 Loss: 1.5503649508953095\n",
            "Epoch        3 Loss: 1.5498690671920776\n",
            "Epoch        4 Loss: 1.5433621535301207\n",
            "Epoch        5 Loss: 1.5324081995487213\n",
            "Epoch        6 Loss: 1.5273836073875426\n",
            "Epoch        7 Loss: 1.5247396428585052\n",
            "Epoch        8 Loss: 1.517415755033493\n",
            "Epoch        9 Loss: 1.5203482525348664\n"
          ],
          "name": "stdout"
        },
        {
          "output_type": "display_data",
          "data": {
            "image/png": "[encoded data removed]",
            "text/plain": [
              "<Figure size 432x288 with 1 Axes>"
            ]
          },
          "metadata": {
            "tags": [],
            "needs_background": "light"
          }
        },
        {
          "output_type": "stream",
          "text": [
            "tensor(1.3218, device='cuda:0')\n",
            "\n",
            " Accuracy: 5373/10000 (54%)\n",
            "\n",
            "Epoch        0 Loss: 1.508543305158615\n",
            "Epoch        1 Loss: 1.511049569606781\n",
            "Epoch        2 Loss: 1.5023932240009308\n",
            "Epoch        3 Loss: 1.502752381324768\n",
            "Epoch        4 Loss: 1.501410174846649\n",
            "Epoch        5 Loss: 1.4947423107624054\n",
            "Epoch        6 Loss: 1.4948405203819275\n",
            "Epoch        7 Loss: 1.488862777709961\n",
            "Epoch        8 Loss: 1.4855152432918548\n",
            "Epoch        9 Loss: 1.4901337637901306\n"
          ],
          "name": "stdout"
        },
        {
          "output_type": "display_data",
          "data": {
            "image/png": "[encoded data removed]",
            "text/plain": [
              "<Figure size 432x288 with 1 Axes>"
            ]
          },
          "metadata": {
            "tags": [],
            "needs_background": "light"
          }
        },
        {
          "output_type": "stream",
          "text": [
            "tensor(1.2940, device='cuda:0')\n",
            "\n",
            " Accuracy: 5530/10000 (55%)\n",
            "\n"
          ],
          "name": "stdout"
        }
      ]
    }
  ]
}